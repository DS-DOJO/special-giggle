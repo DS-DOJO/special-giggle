{
 "cells": [
  {
   "cell_type": "code",
   "execution_count": 1,
   "id": "south-reverse",
   "metadata": {},
   "outputs": [
    {
     "data": {
      "image/png": "[encoded data removed]",
      "text/plain": [
       "<Figure size 432x288 with 1 Axes>"
      ]
     },
     "metadata": {
      "needs_background": "light"
     },
     "output_type": "display_data"
    }
   ],
   "source": [
    "from __future__ import print_function\n",
    "import matplotlib\n",
    "import matplotlib.pyplot as plt\n",
    "import tensorflow as tf\n",
    "import time\n",
    "import numpy as np\n",
    "\n",
    "def get_times(maximum_time):\n",
    "\n",
    "    device_times = {\n",
    "        \"/gpu:0\":[],\n",
    "        \"/cpu:0\":[]\n",
    "    }\n",
    "    matrix_sizes = np.arange(100,2000,20)\n",
    "\n",
    "    for size in matrix_sizes:\n",
    "        #print(size)\n",
    "        for device_name in device_times.keys():\n",
    "\n",
    "            #print(\"####### Calculating on the \" + device_name + \" #######\")\n",
    "\n",
    "            shape = (size,size)\n",
    "            data_type = tf.float16\n",
    "            with tf.device(device_name):\n",
    "                start_time = time.time()\n",
    "                r1 = tf.random.uniform(shape=shape, minval=0, maxval=1, dtype=data_type)\n",
    "                r2 = tf.random.uniform(shape=shape, minval=0, maxval=1, dtype=data_type)\n",
    "                dot_operation = tf.matmul(r2, r1)\n",
    "                time_taken = time.time() - start_time\n",
    "                #print(dot_operation)\n",
    "                device_times[device_name].append(time_taken)\n",
    "\n",
    "            #print(device_times)\n",
    "\n",
    "            if time_taken > maximum_time:\n",
    "                return device_times, matrix_sizes\n",
    "\n",
    "\n",
    "device_times, matrix_sizes = get_times(10)\n",
    "gpu_times = device_times[\"/gpu:0\"]\n",
    "cpu_times = device_times[\"/cpu:0\"]\n",
    "\n",
    "\n",
    "plt.plot(matrix_sizes[:len(gpu_times)], gpu_times, 'o-', label=\"GPU\")\n",
    "plt.plot(matrix_sizes[:len(cpu_times)], cpu_times, 'o-', label=\"CPU\")\n",
    "plt.legend(loc=\"upper left\")\n",
    "plt.ylabel('Time')\n",
    "plt.xlabel('Matrix size')\n",
    "plt.show()"
   ]
  },
  {
   "cell_type": "code",
   "execution_count": null,
   "id": "loose-variety",
   "metadata": {},
   "outputs": [],
   "source": []
  }
 ],
 "metadata": {
  "kernelspec": {
   "display_name": "GCProject Kernel",
   "language": "python",
   "name": "gcproject"
  },
  "language_info": {
   "codemirror_mode": {
    "name": "ipython",
    "version": 3
   },
   "file_extension": ".py",
   "mimetype": "text/x-python",
   "name": "python",
   "nbconvert_exporter": "python",
   "pygments_lexer": "ipython3",
   "version": "3.7.9"
  }
 },
 "nbformat": 4,
 "nbformat_minor": 5
}
